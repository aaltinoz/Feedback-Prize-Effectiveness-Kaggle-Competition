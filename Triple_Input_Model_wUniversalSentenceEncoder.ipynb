{
  "cells": [
    {
      "cell_type": "markdown",
      "metadata": {
        "id": "UY3zX2klzhoT"
      },
      "source": [
        "# Feedback Prize - Predicting Effective Arguments\n",
        "\n",
        "When I checked other notebooks on Kaggle I notice BERT is very popular. In stead of BERT I will use Universal Sentence Encoder with triple inputs. I saw this kind of build in Tensorflow Course of https://www.kaggle.com/mrdbourke. Since, I am at the start of my Data Science journey all, positive or negative feedbacks are appreciated about anything within the notebook.\n"
      ]
    },
    {
      "cell_type": "markdown",
      "metadata": {
        "id": "sJe8WddF0-AF"
      },
      "source": [
        "## imports"
      ]
    },
    {
      "cell_type": "code",
      "execution_count": 1,
      "metadata": {
        "id": "Queh_69k09IS"
      },
      "outputs": [],
      "source": [
        "import numpy as np \n",
        "import pandas as pd \n",
        "import matplotlib.pyplot as plt\n",
        "import tensorflow as tf\n",
        "import seaborn as sns\n",
        "import random\n",
        "import string\n",
        "from tensorflow.keras import layers\n",
        "from tensorflow_hub import KerasLayer\n",
        "from sklearn.preprocessing import OneHotEncoder, LabelEncoder\n"
      ]
    },
    {
      "cell_type": "markdown",
      "metadata": {
        "id": "1uQFpT8A1CZk"
      },
      "source": [
        "## Getting data"
      ]
    },
    {
      "cell_type": "code",
      "execution_count": 2,
      "metadata": {
        "id": "0sREEZB5lLDG"
      },
      "outputs": [],
      "source": [
        "train = pd.read_csv(\"drive/MyDrive/Datasets/Feedback_Prize/train.csv\")\n",
        "test = pd.read_csv(\"drive/MyDrive/Datasets/Feedback_Prize/test.csv\")"
      ]
    },
    {
      "cell_type": "code",
      "execution_count": 3,
      "metadata": {
        "colab": {
          "base_uri": "https://localhost:8080/",
          "height": 395
        },
        "id": "jRE-8ufV1AtD",
        "outputId": "103013ac-ad0b-4599-909e-0759311dd386"
      },
      "outputs": [
        {
          "output_type": "display_data",
          "data": {
            "text/plain": [
              "   discourse_id      essay_id  \\\n",
              "0  0013cc385424  007ACE74B050   \n",
              "1  9704a709b505  007ACE74B050   \n",
              "2  c22adee811b6  007ACE74B050   \n",
              "3  a10d361e54e4  007ACE74B050   \n",
              "4  db3e453ec4e2  007ACE74B050   \n",
              "\n",
              "                                      discourse_text discourse_type  \\\n",
              "0  Hi, i'm Isaac, i'm going to be writing about h...           Lead   \n",
              "1  On my perspective, I think that the face is a ...       Position   \n",
              "2  I think that the face is a natural landform be...          Claim   \n",
              "3  If life was on Mars, we would know by now. The...       Evidence   \n",
              "4  People thought that the face was formed by ali...   Counterclaim   \n",
              "\n",
              "  discourse_effectiveness  \n",
              "0                Adequate  \n",
              "1                Adequate  \n",
              "2                Adequate  \n",
              "3                Adequate  \n",
              "4                Adequate  "
            ],
            "text/html": [
              "\n",
              "  <div id=\"df-6667a1c0-ad86-4209-b31c-e2b7be4d0d3a\">\n",
              "    <div class=\"colab-df-container\">\n",
              "      <div>\n",
              "<style scoped>\n",
              "    .dataframe tbody tr th:only-of-type {\n",
              "        vertical-align: middle;\n",
              "    }\n",
              "\n",
              "    .dataframe tbody tr th {\n",
              "        vertical-align: top;\n",
              "    }\n",
              "\n",
              "    .dataframe thead th {\n",
              "        text-align: right;\n",
              "    }\n",
              "</style>\n",
              "<table border=\"1\" class=\"dataframe\">\n",
              "  <thead>\n",
              "    <tr style=\"text-align: right;\">\n",
              "      <th></th>\n",
              "      <th>discourse_id</th>\n",
              "      <th>essay_id</th>\n",
              "      <th>discourse_text</th>\n",
              "      <th>discourse_type</th>\n",
              "      <th>discourse_effectiveness</th>\n",
              "    </tr>\n",
              "  </thead>\n",
              "  <tbody>\n",
              "    <tr>\n",
              "      <th>0</th>\n",
              "      <td>0013cc385424</td>\n",
              "      <td>007ACE74B050</td>\n",
              "      <td>Hi, i'm Isaac, i'm going to be writing about h...</td>\n",
              "      <td>Lead</td>\n",
              "      <td>Adequate</td>\n",
              "    </tr>\n",
              "    <tr>\n",
              "      <th>1</th>\n",
              "      <td>9704a709b505</td>\n",
              "      <td>007ACE74B050</td>\n",
              "      <td>On my perspective, I think that the face is a ...</td>\n",
              "      <td>Position</td>\n",
              "      <td>Adequate</td>\n",
              "    </tr>\n",
              "    <tr>\n",
              "      <th>2</th>\n",
              "      <td>c22adee811b6</td>\n",
              "      <td>007ACE74B050</td>\n",
              "      <td>I think that the face is a natural landform be...</td>\n",
              "      <td>Claim</td>\n",
              "      <td>Adequate</td>\n",
              "    </tr>\n",
              "    <tr>\n",
              "      <th>3</th>\n",
              "      <td>a10d361e54e4</td>\n",
              "      <td>007ACE74B050</td>\n",
              "      <td>If life was on Mars, we would know by now. The...</td>\n",
              "      <td>Evidence</td>\n",
              "      <td>Adequate</td>\n",
              "    </tr>\n",
              "    <tr>\n",
              "      <th>4</th>\n",
              "      <td>db3e453ec4e2</td>\n",
              "      <td>007ACE74B050</td>\n",
              "      <td>People thought that the face was formed by ali...</td>\n",
              "      <td>Counterclaim</td>\n",
              "      <td>Adequate</td>\n",
              "    </tr>\n",
              "  </tbody>\n",
              "</table>\n",
              "</div>\n",
              "      <button class=\"colab-df-convert\" onclick=\"convertToInteractive('df-6667a1c0-ad86-4209-b31c-e2b7be4d0d3a')\"\n",
              "              title=\"Convert this dataframe to an interactive table.\"\n",
              "              style=\"display:none;\">\n",
              "        \n",
              "  <svg xmlns=\"http://www.w3.org/2000/svg\" height=\"24px\"viewBox=\"0 0 24 24\"\n",
              "       width=\"24px\">\n",
              "    <path d=\"M0 0h24v24H0V0z\" fill=\"none\"/>\n",
              "    <path d=\"M18.56 5.44l.94 2.06.94-2.06 2.06-.94-2.06-.94-.94-2.06-.94 2.06-2.06.94zm-11 1L8.5 8.5l.94-2.06 2.06-.94-2.06-.94L8.5 2.5l-.94 2.06-2.06.94zm10 10l.94 2.06.94-2.06 2.06-.94-2.06-.94-.94-2.06-.94 2.06-2.06.94z\"/><path d=\"M17.41 7.96l-1.37-1.37c-.4-.4-.92-.59-1.43-.59-.52 0-1.04.2-1.43.59L10.3 9.45l-7.72 7.72c-.78.78-.78 2.05 0 2.83L4 21.41c.39.39.9.59 1.41.59.51 0 1.02-.2 1.41-.59l7.78-7.78 2.81-2.81c.8-.78.8-2.07 0-2.86zM5.41 20L4 18.59l7.72-7.72 1.47 1.35L5.41 20z\"/>\n",
              "  </svg>\n",
              "      </button>\n",
              "      \n",
              "  <style>\n",
              "    .colab-df-container {\n",
              "      display:flex;\n",
              "      flex-wrap:wrap;\n",
              "      gap: 12px;\n",
              "    }\n",
              "\n",
              "    .colab-df-convert {\n",
              "      background-color: #E8F0FE;\n",
              "      border: none;\n",
              "      border-radius: 50%;\n",
              "      cursor: pointer;\n",
              "      display: none;\n",
              "      fill: #1967D2;\n",
              "      height: 32px;\n",
              "      padding: 0 0 0 0;\n",
              "      width: 32px;\n",
              "    }\n",
              "\n",
              "    .colab-df-convert:hover {\n",
              "      background-color: #E2EBFA;\n",
              "      box-shadow: 0px 1px 2px rgba(60, 64, 67, 0.3), 0px 1px 3px 1px rgba(60, 64, 67, 0.15);\n",
              "      fill: #174EA6;\n",
              "    }\n",
              "\n",
              "    [theme=dark] .colab-df-convert {\n",
              "      background-color: #3B4455;\n",
              "      fill: #D2E3FC;\n",
              "    }\n",
              "\n",
              "    [theme=dark] .colab-df-convert:hover {\n",
              "      background-color: #434B5C;\n",
              "      box-shadow: 0px 1px 3px 1px rgba(0, 0, 0, 0.15);\n",
              "      filter: drop-shadow(0px 1px 2px rgba(0, 0, 0, 0.3));\n",
              "      fill: #FFFFFF;\n",
              "    }\n",
              "  </style>\n",
              "\n",
              "      <script>\n",
              "        const buttonEl =\n",
              "          document.querySelector('#df-6667a1c0-ad86-4209-b31c-e2b7be4d0d3a button.colab-df-convert');\n",
              "        buttonEl.style.display =\n",
              "          google.colab.kernel.accessAllowed ? 'block' : 'none';\n",
              "\n",
              "        async function convertToInteractive(key) {\n",
              "          const element = document.querySelector('#df-6667a1c0-ad86-4209-b31c-e2b7be4d0d3a');\n",
              "          const dataTable =\n",
              "            await google.colab.kernel.invokeFunction('convertToInteractive',\n",
              "                                                     [key], {});\n",
              "          if (!dataTable) return;\n",
              "\n",
              "          const docLinkHtml = 'Like what you see? Visit the ' +\n",
              "            '<a target=\"_blank\" href=https://colab.research.google.com/notebooks/data_table.ipynb>data table notebook</a>'\n",
              "            + ' to learn more about interactive tables.';\n",
              "          element.innerHTML = '';\n",
              "          dataTable['output_type'] = 'display_data';\n",
              "          await google.colab.output.renderOutput(dataTable, element);\n",
              "          const docLink = document.createElement('div');\n",
              "          docLink.innerHTML = docLinkHtml;\n",
              "          element.appendChild(docLink);\n",
              "        }\n",
              "      </script>\n",
              "    </div>\n",
              "  </div>\n",
              "  "
            ]
          },
          "metadata": {}
        },
        {
          "output_type": "display_data",
          "data": {
            "text/plain": [
              "   discourse_id      essay_id  \\\n",
              "0  a261b6e14276  D72CB1C11673   \n",
              "1  5a88900e7dc1  D72CB1C11673   \n",
              "2  9790d835736b  D72CB1C11673   \n",
              "3  75ce6d68b67b  D72CB1C11673   \n",
              "4  93578d946723  D72CB1C11673   \n",
              "\n",
              "                                      discourse_text discourse_type  \n",
              "0  Making choices in life can be very difficult. ...           Lead  \n",
              "1  Seeking multiple opinions can help a person ma...       Position  \n",
              "2                     it can decrease stress levels           Claim  \n",
              "3             a great chance to learn something new           Claim  \n",
              "4               can be very helpful and beneficial.           Claim  "
            ],
            "text/html": [
              "\n",
              "  <div id=\"df-9e939c65-b715-4d02-bc45-05fdbd0d9dc8\">\n",
              "    <div class=\"colab-df-container\">\n",
              "      <div>\n",
              "<style scoped>\n",
              "    .dataframe tbody tr th:only-of-type {\n",
              "        vertical-align: middle;\n",
              "    }\n",
              "\n",
              "    .dataframe tbody tr th {\n",
              "        vertical-align: top;\n",
              "    }\n",
              "\n",
              "    .dataframe thead th {\n",
              "        text-align: right;\n",
              "    }\n",
              "</style>\n",
              "<table border=\"1\" class=\"dataframe\">\n",
              "  <thead>\n",
              "    <tr style=\"text-align: right;\">\n",
              "      <th></th>\n",
              "      <th>discourse_id</th>\n",
              "      <th>essay_id</th>\n",
              "      <th>discourse_text</th>\n",
              "      <th>discourse_type</th>\n",
              "    </tr>\n",
              "  </thead>\n",
              "  <tbody>\n",
              "    <tr>\n",
              "      <th>0</th>\n",
              "      <td>a261b6e14276</td>\n",
              "      <td>D72CB1C11673</td>\n",
              "      <td>Making choices in life can be very difficult. ...</td>\n",
              "      <td>Lead</td>\n",
              "    </tr>\n",
              "    <tr>\n",
              "      <th>1</th>\n",
              "      <td>5a88900e7dc1</td>\n",
              "      <td>D72CB1C11673</td>\n",
              "      <td>Seeking multiple opinions can help a person ma...</td>\n",
              "      <td>Position</td>\n",
              "    </tr>\n",
              "    <tr>\n",
              "      <th>2</th>\n",
              "      <td>9790d835736b</td>\n",
              "      <td>D72CB1C11673</td>\n",
              "      <td>it can decrease stress levels</td>\n",
              "      <td>Claim</td>\n",
              "    </tr>\n",
              "    <tr>\n",
              "      <th>3</th>\n",
              "      <td>75ce6d68b67b</td>\n",
              "      <td>D72CB1C11673</td>\n",
              "      <td>a great chance to learn something new</td>\n",
              "      <td>Claim</td>\n",
              "    </tr>\n",
              "    <tr>\n",
              "      <th>4</th>\n",
              "      <td>93578d946723</td>\n",
              "      <td>D72CB1C11673</td>\n",
              "      <td>can be very helpful and beneficial.</td>\n",
              "      <td>Claim</td>\n",
              "    </tr>\n",
              "  </tbody>\n",
              "</table>\n",
              "</div>\n",
              "      <button class=\"colab-df-convert\" onclick=\"convertToInteractive('df-9e939c65-b715-4d02-bc45-05fdbd0d9dc8')\"\n",
              "              title=\"Convert this dataframe to an interactive table.\"\n",
              "              style=\"display:none;\">\n",
              "        \n",
              "  <svg xmlns=\"http://www.w3.org/2000/svg\" height=\"24px\"viewBox=\"0 0 24 24\"\n",
              "       width=\"24px\">\n",
              "    <path d=\"M0 0h24v24H0V0z\" fill=\"none\"/>\n",
              "    <path d=\"M18.56 5.44l.94 2.06.94-2.06 2.06-.94-2.06-.94-.94-2.06-.94 2.06-2.06.94zm-11 1L8.5 8.5l.94-2.06 2.06-.94-2.06-.94L8.5 2.5l-.94 2.06-2.06.94zm10 10l.94 2.06.94-2.06 2.06-.94-2.06-.94-.94-2.06-.94 2.06-2.06.94z\"/><path d=\"M17.41 7.96l-1.37-1.37c-.4-.4-.92-.59-1.43-.59-.52 0-1.04.2-1.43.59L10.3 9.45l-7.72 7.72c-.78.78-.78 2.05 0 2.83L4 21.41c.39.39.9.59 1.41.59.51 0 1.02-.2 1.41-.59l7.78-7.78 2.81-2.81c.8-.78.8-2.07 0-2.86zM5.41 20L4 18.59l7.72-7.72 1.47 1.35L5.41 20z\"/>\n",
              "  </svg>\n",
              "      </button>\n",
              "      \n",
              "  <style>\n",
              "    .colab-df-container {\n",
              "      display:flex;\n",
              "      flex-wrap:wrap;\n",
              "      gap: 12px;\n",
              "    }\n",
              "\n",
              "    .colab-df-convert {\n",
              "      background-color: #E8F0FE;\n",
              "      border: none;\n",
              "      border-radius: 50%;\n",
              "      cursor: pointer;\n",
              "      display: none;\n",
              "      fill: #1967D2;\n",
              "      height: 32px;\n",
              "      padding: 0 0 0 0;\n",
              "      width: 32px;\n",
              "    }\n",
              "\n",
              "    .colab-df-convert:hover {\n",
              "      background-color: #E2EBFA;\n",
              "      box-shadow: 0px 1px 2px rgba(60, 64, 67, 0.3), 0px 1px 3px 1px rgba(60, 64, 67, 0.15);\n",
              "      fill: #174EA6;\n",
              "    }\n",
              "\n",
              "    [theme=dark] .colab-df-convert {\n",
              "      background-color: #3B4455;\n",
              "      fill: #D2E3FC;\n",
              "    }\n",
              "\n",
              "    [theme=dark] .colab-df-convert:hover {\n",
              "      background-color: #434B5C;\n",
              "      box-shadow: 0px 1px 3px 1px rgba(0, 0, 0, 0.15);\n",
              "      filter: drop-shadow(0px 1px 2px rgba(0, 0, 0, 0.3));\n",
              "      fill: #FFFFFF;\n",
              "    }\n",
              "  </style>\n",
              "\n",
              "      <script>\n",
              "        const buttonEl =\n",
              "          document.querySelector('#df-9e939c65-b715-4d02-bc45-05fdbd0d9dc8 button.colab-df-convert');\n",
              "        buttonEl.style.display =\n",
              "          google.colab.kernel.accessAllowed ? 'block' : 'none';\n",
              "\n",
              "        async function convertToInteractive(key) {\n",
              "          const element = document.querySelector('#df-9e939c65-b715-4d02-bc45-05fdbd0d9dc8');\n",
              "          const dataTable =\n",
              "            await google.colab.kernel.invokeFunction('convertToInteractive',\n",
              "                                                     [key], {});\n",
              "          if (!dataTable) return;\n",
              "\n",
              "          const docLinkHtml = 'Like what you see? Visit the ' +\n",
              "            '<a target=\"_blank\" href=https://colab.research.google.com/notebooks/data_table.ipynb>data table notebook</a>'\n",
              "            + ' to learn more about interactive tables.';\n",
              "          element.innerHTML = '';\n",
              "          dataTable['output_type'] = 'display_data';\n",
              "          await google.colab.output.renderOutput(dataTable, element);\n",
              "          const docLink = document.createElement('div');\n",
              "          docLink.innerHTML = docLinkHtml;\n",
              "          element.appendChild(docLink);\n",
              "        }\n",
              "      </script>\n",
              "    </div>\n",
              "  </div>\n",
              "  "
            ]
          },
          "metadata": {}
        }
      ],
      "source": [
        "display(train.head(), test.head())"
      ]
    },
    {
      "cell_type": "markdown",
      "source": [
        "## EDA"
      ],
      "metadata": {
        "id": "6vl3dd4bx40W"
      }
    },
    {
      "cell_type": "code",
      "source": [
        "# Check shapes\n",
        "print(f\"Shape of Training data {train.shape}\")\n",
        "print(f\"Shape of Test data {test.shape}\")\n",
        "# Number of unique essay count\n",
        "print(f\"Number of unique essay count: {train.essay_id.nunique()}\")"
      ],
      "metadata": {
        "colab": {
          "base_uri": "https://localhost:8080/"
        },
        "id": "VGnU9V2px6uL",
        "outputId": "b85ebc37-9129-4ab7-846a-6c3dd69a44c3"
      },
      "execution_count": 63,
      "outputs": [
        {
          "output_type": "stream",
          "name": "stdout",
          "text": [
            "Shape of Training data (33112, 6)\n",
            "Shape of Test data (10, 6)\n",
            "Number of unique essay count: 3772\n"
          ]
        }
      ]
    },
    {
      "cell_type": "code",
      "source": [
        "# Check a random essay\n",
        "ran_uniq_id = random.choice(train.essay_id.unique())\n",
        "for i in (train[\"discourse_text\"].loc[train[\"essay_id\"] == ran_uniq_id]):\n",
        "  print(i)"
      ],
      "metadata": {
        "colab": {
          "base_uri": "https://localhost:8080/"
        },
        "id": "hn2aVsxjyFJK",
        "outputId": "c2837a41-8b1a-4c80-f1fb-3947faf4b69e"
      },
      "execution_count": 68,
      "outputs": [
        {
          "output_type": "stream",
          "name": "stdout",
          "text": [
            "school is the last place a student wants to be in when theyve experienced a couple of rough days or even weeks and home is the first place they think about when they need comfort or rest similarly not all students are carbon copies different students require different paces regarding social life and acdemics so why would schools reject the needs of their variety of students \n",
            "students should have access to long distance learning where they will attend classes online and where they will study in a safe familiar environment that they already perform better in as place they can focus \n",
            "firstly the internet and modern technologys first purpose is to make our lives better \n",
            "this is the direction the todays world is headed teachers loath the phrase i forgot it at home but with the ease of online classes students will not be able to use the same excuses teachers also will not have to worry about misplaced papers when all of the materials will be conveniently saved online \n",
            "but some opponents believe students will inevitably take advantage of being online where they are prone to the temptations of plagarism and where they can find the answer key to every worksheet theyve ever been handed \n",
            "but why would a student take advantage of the world wide web at home when they have all the time in the world to complete their assignments and where they already perform better on their homework stooping grades will become the first wake up call for students taking advantage of the ease of modern technology \n",
            "secondly in favor of many parents and guardians home is not only more comfortable for students it is also much safer \n",
            "avoiding more traumatizing events of physical and verbal bullying on school grounds will significantly increase the childs chances of performing at their best in acedemic as well as extracurricular activities even with some efforts to erradicate the event of school shootings with metal detectors and other techniques students are utimately safer at home rather than on the schools vulnerable campus \n",
            "some opponents say a it is inevitable for a students social life to diminish when they do not have facetoface contact with their teachers or peers \n",
            "however being at home more often will instinctively encourage students to venture out of their familiar environmnt and seek beneficial relationships with other students the group video conferences that will be provided by online programs will give students the tools they need to interact with their teachers and have meaningful discussions about their acdemics and improvment \n",
            "similarly some students choose not to interact with their teachers they see on a daily basis at school on a more meaningful level where they should be developing better relationships with them \n",
            "email video conferences and other ways of communicating from home will provide this for students at home instead of constantly seeing them in school hallways and in class the student can choose how they will develop their relationships with and get to know their teachers \n",
            "overall students should have access to a path of learning that is catered to them this path should accomadate for teachers and learners ease saftey and the students social needs home is the best place for a student to learn away from the school campus especially when pointblank bullying and mass schootings are taken into consideration however the students social life will not be diminished in anyway with the aid of group video conferences the students online acedemic career will reflect how they learn best  \n"
          ]
        }
      ]
    },
    {
      "cell_type": "code",
      "source": [
        "# Visualize unique Discourse types\n",
        "plt.figure(figsize = (10,7))\n",
        "ax = sns.countplot(x = train[\"discourse_type\"])\n",
        "for p in ax.patches:\n",
        "    percentage = str(f\"{(100 * p.get_height()/len(train)):.2f}\") + \"%\"\n",
        "    ax.annotate(f'\\n{percentage}', (p.get_x()+0.4, p.get_height()), ha='center', va='top', color='white', size=14)\n",
        "\n",
        "plt.title(\"Discourse Countplot\")\n",
        "plt.ylabel(\"Counts\")\n",
        "plt.xlabel(\"Discourse Types\");"
      ],
      "metadata": {
        "colab": {
          "base_uri": "https://localhost:8080/",
          "height": 458
        },
        "id": "fY4_V0OHykKN",
        "outputId": "0b759d84-6802-472c-e198-87714d7469fe"
      },
      "execution_count": 78,
      "outputs": [
        {
          "output_type": "display_data",
          "data": {
            "text/plain": [
              "<Figure size 720x504 with 1 Axes>"
            ],
            "image/png": "[encoded data removed]"
          },
          "metadata": {
            "needs_background": "light"
          }
        }
      ]
    },
    {
      "cell_type": "markdown",
      "source": [
        "### Target Investigation"
      ],
      "metadata": {
        "id": "qh973vaU0qnM"
      }
    },
    {
      "cell_type": "code",
      "source": [
        "# How many disclosure types?\n",
        "print(f\"Count of discourse_effectiveness types: {train.discourse_effectiveness.nunique()}\\n\")\n",
        "print(f\"discourse_effectiveness types are: {train.discourse_effectiveness.unique()}\")"
      ],
      "metadata": {
        "colab": {
          "base_uri": "https://localhost:8080/"
        },
        "id": "ERrsJUxR0t4M",
        "outputId": "b8046908-abb6-4401-9564-0e8a7cce7e7c"
      },
      "execution_count": 79,
      "outputs": [
        {
          "output_type": "stream",
          "name": "stdout",
          "text": [
            "Count of discourse_effectiveness types: 3\n",
            "\n",
            "discourse_effectiveness types are: ['Adequate' 'Ineffective' 'Effective']\n"
          ]
        }
      ]
    },
    {
      "cell_type": "code",
      "source": [
        "# How many disclosure types?\n",
        "print(f\"Count of discourse_effectiveness types: {train.discourse_effectiveness.nunique()}\\n\")\n",
        "print(f\"discourse_effectiveness types are: {train.discourse_effectiveness.unique()}\")"
      ],
      "metadata": {
        "colab": {
          "base_uri": "https://localhost:8080/"
        },
        "id": "GFJk_Knf0zMX",
        "outputId": "ec8a5906-6a88-4762-8db3-ba2e6ab4ae5c"
      },
      "execution_count": 81,
      "outputs": [
        {
          "output_type": "stream",
          "name": "stdout",
          "text": [
            "Count of discourse_effectiveness types: 3\n",
            "\n",
            "discourse_effectiveness types are: ['Adequate' 'Ineffective' 'Effective']\n"
          ]
        }
      ]
    },
    {
      "cell_type": "code",
      "source": [
        "# Visualize unique discourse_effectiveness types\n",
        "plt.figure(figsize = (10,7))\n",
        "ax = sns.countplot(x = train[\"discourse_effectiveness\"])\n",
        "for p in ax.patches:\n",
        "    percentage = str(f\"{(100 * p.get_height()/len(train)):.2f}\") + \"%\"\n",
        "    ax.annotate(f'\\n{percentage}', (p.get_x()+0.2, p.get_height()), ha='center', va='top', color='white', size=18)\n",
        "plt.title(\"discourse_effectiveness Countplot\", fontsize = 14)\n",
        "plt.ylabel(\"Counts\")\n",
        "plt.xlabel(\"discourse_effectiveness Types\");"
      ],
      "metadata": {
        "colab": {
          "base_uri": "https://localhost:8080/",
          "height": 460
        },
        "id": "s8xhGsb109VS",
        "outputId": "42a31e1f-6165-4d7a-9098-43c9d19582c3"
      },
      "execution_count": 83,
      "outputs": [
        {
          "output_type": "display_data",
          "data": {
            "text/plain": [
              "<Figure size 720x504 with 1 Axes>"
            ],
            "image/png": "[encoded data removed]"
          },
          "metadata": {
            "needs_background": "light"
          }
        }
      ]
    },
    {
      "cell_type": "markdown",
      "metadata": {
        "id": "HRAScZ053_rR"
      },
      "source": [
        "## Feature Engineering\n",
        "Since `discourse_text` constructed as sentence splits of essays. In my opinion order of texts is important within same `essay_id`. Let's add line_num to our data"
      ]
    },
    {
      "cell_type": "code",
      "execution_count": 4,
      "metadata": {
        "colab": {
          "base_uri": "https://localhost:8080/",
          "height": 394
        },
        "id": "5QAjgQ1k5HH6",
        "outputId": "95ddd40a-2cfd-4022-9a05-800c63716094"
      },
      "outputs": [
        {
          "output_type": "display_data",
          "data": {
            "text/plain": [
              "    discourse_id      essay_id  \\\n",
              "0   0013cc385424  007ACE74B050   \n",
              "1   9704a709b505  007ACE74B050   \n",
              "2   c22adee811b6  007ACE74B050   \n",
              "3   a10d361e54e4  007ACE74B050   \n",
              "4   db3e453ec4e2  007ACE74B050   \n",
              "5   36a565e45db7  007ACE74B050   \n",
              "6   fb65fe816ba3  007ACE74B050   \n",
              "7   4e472e2584fa  007ACE74B050   \n",
              "8   28a94d3ee425  007ACE74B050   \n",
              "9   d226f06362f5  00944C693682   \n",
              "10  de347c859ab6  00944C693682   \n",
              "\n",
              "                                       discourse_text        discourse_type  \\\n",
              "0   Hi, i'm Isaac, i'm going to be writing about h...                  Lead   \n",
              "1   On my perspective, I think that the face is a ...              Position   \n",
              "2   I think that the face is a natural landform be...                 Claim   \n",
              "3   If life was on Mars, we would know by now. The...              Evidence   \n",
              "4   People thought that the face was formed by ali...          Counterclaim   \n",
              "5   though some say that life on Mars does exist, ...              Rebuttal   \n",
              "6   It says in paragraph 7, on April 5, 1998, Mars...              Evidence   \n",
              "7   Everyone who thought it was made by alieans ev...          Counterclaim   \n",
              "8   Though people were not satified about how the ...  Concluding Statement   \n",
              "9   Limiting the usage of cars has personal and pr...                  Lead   \n",
              "10  With so many things in this world that few peo...              Position   \n",
              "\n",
              "   discourse_effectiveness  line_num  \n",
              "0                 Adequate         1  \n",
              "1                 Adequate         2  \n",
              "2                 Adequate         3  \n",
              "3                 Adequate         4  \n",
              "4                 Adequate         5  \n",
              "5              Ineffective         6  \n",
              "6                 Adequate         7  \n",
              "7                 Adequate         8  \n",
              "8                 Adequate         9  \n",
              "9                Effective         1  \n",
              "10               Effective         2  "
            ],
            "text/html": [
              "\n",
              "  <div id=\"df-da50be3a-2076-4f3f-a9e5-94e60a6741f4\">\n",
              "    <div class=\"colab-df-container\">\n",
              "      <div>\n",
              "<style scoped>\n",
              "    .dataframe tbody tr th:only-of-type {\n",
              "        vertical-align: middle;\n",
              "    }\n",
              "\n",
              "    .dataframe tbody tr th {\n",
              "        vertical-align: top;\n",
              "    }\n",
              "\n",
              "    .dataframe thead th {\n",
              "        text-align: right;\n",
              "    }\n",
              "</style>\n",
              "<table border=\"1\" class=\"dataframe\">\n",
              "  <thead>\n",
              "    <tr style=\"text-align: right;\">\n",
              "      <th></th>\n",
              "      <th>discourse_id</th>\n",
              "      <th>essay_id</th>\n",
              "      <th>discourse_text</th>\n",
              "      <th>discourse_type</th>\n",
              "      <th>discourse_effectiveness</th>\n",
              "      <th>line_num</th>\n",
              "    </tr>\n",
              "  </thead>\n",
              "  <tbody>\n",
              "    <tr>\n",
              "      <th>0</th>\n",
              "      <td>0013cc385424</td>\n",
              "      <td>007ACE74B050</td>\n",
              "      <td>Hi, i'm Isaac, i'm going to be writing about h...</td>\n",
              "      <td>Lead</td>\n",
              "      <td>Adequate</td>\n",
              "      <td>1</td>\n",
              "    </tr>\n",
              "    <tr>\n",
              "      <th>1</th>\n",
              "      <td>9704a709b505</td>\n",
              "      <td>007ACE74B050</td>\n",
              "      <td>On my perspective, I think that the face is a ...</td>\n",
              "      <td>Position</td>\n",
              "      <td>Adequate</td>\n",
              "      <td>2</td>\n",
              "    </tr>\n",
              "    <tr>\n",
              "      <th>2</th>\n",
              "      <td>c22adee811b6</td>\n",
              "      <td>007ACE74B050</td>\n",
              "      <td>I think that the face is a natural landform be...</td>\n",
              "      <td>Claim</td>\n",
              "      <td>Adequate</td>\n",
              "      <td>3</td>\n",
              "    </tr>\n",
              "    <tr>\n",
              "      <th>3</th>\n",
              "      <td>a10d361e54e4</td>\n",
              "      <td>007ACE74B050</td>\n",
              "      <td>If life was on Mars, we would know by now. The...</td>\n",
              "      <td>Evidence</td>\n",
              "      <td>Adequate</td>\n",
              "      <td>4</td>\n",
              "    </tr>\n",
              "    <tr>\n",
              "      <th>4</th>\n",
              "      <td>db3e453ec4e2</td>\n",
              "      <td>007ACE74B050</td>\n",
              "      <td>People thought that the face was formed by ali...</td>\n",
              "      <td>Counterclaim</td>\n",
              "      <td>Adequate</td>\n",
              "      <td>5</td>\n",
              "    </tr>\n",
              "    <tr>\n",
              "      <th>5</th>\n",
              "      <td>36a565e45db7</td>\n",
              "      <td>007ACE74B050</td>\n",
              "      <td>though some say that life on Mars does exist, ...</td>\n",
              "      <td>Rebuttal</td>\n",
              "      <td>Ineffective</td>\n",
              "      <td>6</td>\n",
              "    </tr>\n",
              "    <tr>\n",
              "      <th>6</th>\n",
              "      <td>fb65fe816ba3</td>\n",
              "      <td>007ACE74B050</td>\n",
              "      <td>It says in paragraph 7, on April 5, 1998, Mars...</td>\n",
              "      <td>Evidence</td>\n",
              "      <td>Adequate</td>\n",
              "      <td>7</td>\n",
              "    </tr>\n",
              "    <tr>\n",
              "      <th>7</th>\n",
              "      <td>4e472e2584fa</td>\n",
              "      <td>007ACE74B050</td>\n",
              "      <td>Everyone who thought it was made by alieans ev...</td>\n",
              "      <td>Counterclaim</td>\n",
              "      <td>Adequate</td>\n",
              "      <td>8</td>\n",
              "    </tr>\n",
              "    <tr>\n",
              "      <th>8</th>\n",
              "      <td>28a94d3ee425</td>\n",
              "      <td>007ACE74B050</td>\n",
              "      <td>Though people were not satified about how the ...</td>\n",
              "      <td>Concluding Statement</td>\n",
              "      <td>Adequate</td>\n",
              "      <td>9</td>\n",
              "    </tr>\n",
              "    <tr>\n",
              "      <th>9</th>\n",
              "      <td>d226f06362f5</td>\n",
              "      <td>00944C693682</td>\n",
              "      <td>Limiting the usage of cars has personal and pr...</td>\n",
              "      <td>Lead</td>\n",
              "      <td>Effective</td>\n",
              "      <td>1</td>\n",
              "    </tr>\n",
              "    <tr>\n",
              "      <th>10</th>\n",
              "      <td>de347c859ab6</td>\n",
              "      <td>00944C693682</td>\n",
              "      <td>With so many things in this world that few peo...</td>\n",
              "      <td>Position</td>\n",
              "      <td>Effective</td>\n",
              "      <td>2</td>\n",
              "    </tr>\n",
              "  </tbody>\n",
              "</table>\n",
              "</div>\n",
              "      <button class=\"colab-df-convert\" onclick=\"convertToInteractive('df-da50be3a-2076-4f3f-a9e5-94e60a6741f4')\"\n",
              "              title=\"Convert this dataframe to an interactive table.\"\n",
              "              style=\"display:none;\">\n",
              "        \n",
              "  <svg xmlns=\"http://www.w3.org/2000/svg\" height=\"24px\"viewBox=\"0 0 24 24\"\n",
              "       width=\"24px\">\n",
              "    <path d=\"M0 0h24v24H0V0z\" fill=\"none\"/>\n",
              "    <path d=\"M18.56 5.44l.94 2.06.94-2.06 2.06-.94-2.06-.94-.94-2.06-.94 2.06-2.06.94zm-11 1L8.5 8.5l.94-2.06 2.06-.94-2.06-.94L8.5 2.5l-.94 2.06-2.06.94zm10 10l.94 2.06.94-2.06 2.06-.94-2.06-.94-.94-2.06-.94 2.06-2.06.94z\"/><path d=\"M17.41 7.96l-1.37-1.37c-.4-.4-.92-.59-1.43-.59-.52 0-1.04.2-1.43.59L10.3 9.45l-7.72 7.72c-.78.78-.78 2.05 0 2.83L4 21.41c.39.39.9.59 1.41.59.51 0 1.02-.2 1.41-.59l7.78-7.78 2.81-2.81c.8-.78.8-2.07 0-2.86zM5.41 20L4 18.59l7.72-7.72 1.47 1.35L5.41 20z\"/>\n",
              "  </svg>\n",
              "      </button>\n",
              "      \n",
              "  <style>\n",
              "    .colab-df-container {\n",
              "      display:flex;\n",
              "      flex-wrap:wrap;\n",
              "      gap: 12px;\n",
              "    }\n",
              "\n",
              "    .colab-df-convert {\n",
              "      background-color: #E8F0FE;\n",
              "      border: none;\n",
              "      border-radius: 50%;\n",
              "      cursor: pointer;\n",
              "      display: none;\n",
              "      fill: #1967D2;\n",
              "      height: 32px;\n",
              "      padding: 0 0 0 0;\n",
              "      width: 32px;\n",
              "    }\n",
              "\n",
              "    .colab-df-convert:hover {\n",
              "      background-color: #E2EBFA;\n",
              "      box-shadow: 0px 1px 2px rgba(60, 64, 67, 0.3), 0px 1px 3px 1px rgba(60, 64, 67, 0.15);\n",
              "      fill: #174EA6;\n",
              "    }\n",
              "\n",
              "    [theme=dark] .colab-df-convert {\n",
              "      background-color: #3B4455;\n",
              "      fill: #D2E3FC;\n",
              "    }\n",
              "\n",
              "    [theme=dark] .colab-df-convert:hover {\n",
              "      background-color: #434B5C;\n",
              "      box-shadow: 0px 1px 3px 1px rgba(0, 0, 0, 0.15);\n",
              "      filter: drop-shadow(0px 1px 2px rgba(0, 0, 0, 0.3));\n",
              "      fill: #FFFFFF;\n",
              "    }\n",
              "  </style>\n",
              "\n",
              "      <script>\n",
              "        const buttonEl =\n",
              "          document.querySelector('#df-da50be3a-2076-4f3f-a9e5-94e60a6741f4 button.colab-df-convert');\n",
              "        buttonEl.style.display =\n",
              "          google.colab.kernel.accessAllowed ? 'block' : 'none';\n",
              "\n",
              "        async function convertToInteractive(key) {\n",
              "          const element = document.querySelector('#df-da50be3a-2076-4f3f-a9e5-94e60a6741f4');\n",
              "          const dataTable =\n",
              "            await google.colab.kernel.invokeFunction('convertToInteractive',\n",
              "                                                     [key], {});\n",
              "          if (!dataTable) return;\n",
              "\n",
              "          const docLinkHtml = 'Like what you see? Visit the ' +\n",
              "            '<a target=\"_blank\" href=https://colab.research.google.com/notebooks/data_table.ipynb>data table notebook</a>'\n",
              "            + ' to learn more about interactive tables.';\n",
              "          element.innerHTML = '';\n",
              "          dataTable['output_type'] = 'display_data';\n",
              "          await google.colab.output.renderOutput(dataTable, element);\n",
              "          const docLink = document.createElement('div');\n",
              "          docLink.innerHTML = docLinkHtml;\n",
              "          element.appendChild(docLink);\n",
              "        }\n",
              "      </script>\n",
              "    </div>\n",
              "  </div>\n",
              "  "
            ]
          },
          "metadata": {}
        }
      ],
      "source": [
        "train[\"line_num\"] = train.groupby(\"essay_id\")[\"essay_id\"].cumcount()+1\n",
        "test[\"line_num\"] = test.groupby(\"essay_id\")[\"essay_id\"].cumcount()+1\n",
        "display(train.head(11))"
      ]
    },
    {
      "cell_type": "markdown",
      "metadata": {
        "id": "41dZJDSb18kK"
      },
      "source": [
        "## Preprocessing \n",
        "Steps:\n",
        "  * Lower the text\n",
        "  * Remove digits\n",
        "  * Remove Punctuation "
      ]
    },
    {
      "cell_type": "code",
      "execution_count": 5,
      "metadata": {
        "id": "nAf0PXRtHQqe"
      },
      "outputs": [],
      "source": [
        "def preprocess_text(data):\n",
        "  for i, text in enumerate(data[\"discourse_text\"]):\n",
        "      text =  text.lower()\n",
        "      text = text.translate(str.maketrans(\"\", \"\", string.digits))\n",
        "      text = text.translate(str.maketrans(\"\", \"\", string.punctuation))\n",
        "      data[\"discourse_text\"][i] = text  "
      ]
    },
    {
      "cell_type": "code",
      "execution_count": 6,
      "metadata": {
        "colab": {
          "base_uri": "https://localhost:8080/",
          "height": 499
        },
        "id": "O2KML5ZPHjME",
        "outputId": "1980edab-eb10-4f98-d9cc-5e3b017397b8"
      },
      "outputs": [
        {
          "output_type": "stream",
          "name": "stderr",
          "text": [
            "/usr/local/lib/python3.7/dist-packages/ipykernel_launcher.py:6: SettingWithCopyWarning: \n",
            "A value is trying to be set on a copy of a slice from a DataFrame\n",
            "\n",
            "See the caveats in the documentation: https://pandas.pydata.org/pandas-docs/stable/user_guide/indexing.html#returning-a-view-versus-a-copy\n",
            "  \n"
          ]
        },
        {
          "output_type": "display_data",
          "data": {
            "text/plain": [
              "   discourse_id      essay_id  \\\n",
              "0  0013cc385424  007ACE74B050   \n",
              "1  9704a709b505  007ACE74B050   \n",
              "2  c22adee811b6  007ACE74B050   \n",
              "3  a10d361e54e4  007ACE74B050   \n",
              "4  db3e453ec4e2  007ACE74B050   \n",
              "\n",
              "                                      discourse_text discourse_type  \\\n",
              "0  hi im isaac im going to be writing about how t...           Lead   \n",
              "1  on my perspective i think that the face is a n...       Position   \n",
              "2  i think that the face is a natural landform be...          Claim   \n",
              "3  if life was on mars we would know by now the r...       Evidence   \n",
              "4  people thought that the face was formed by ali...   Counterclaim   \n",
              "\n",
              "  discourse_effectiveness  line_num  \n",
              "0                Adequate         1  \n",
              "1                Adequate         2  \n",
              "2                Adequate         3  \n",
              "3                Adequate         4  \n",
              "4                Adequate         5  "
            ],
            "text/html": [
              "\n",
              "  <div id=\"df-e934b3d3-c865-40d8-9c0a-47de5f7d155c\">\n",
              "    <div class=\"colab-df-container\">\n",
              "      <div>\n",
              "<style scoped>\n",
              "    .dataframe tbody tr th:only-of-type {\n",
              "        vertical-align: middle;\n",
              "    }\n",
              "\n",
              "    .dataframe tbody tr th {\n",
              "        vertical-align: top;\n",
              "    }\n",
              "\n",
              "    .dataframe thead th {\n",
              "        text-align: right;\n",
              "    }\n",
              "</style>\n",
              "<table border=\"1\" class=\"dataframe\">\n",
              "  <thead>\n",
              "    <tr style=\"text-align: right;\">\n",
              "      <th></th>\n",
              "      <th>discourse_id</th>\n",
              "      <th>essay_id</th>\n",
              "      <th>discourse_text</th>\n",
              "      <th>discourse_type</th>\n",
              "      <th>discourse_effectiveness</th>\n",
              "      <th>line_num</th>\n",
              "    </tr>\n",
              "  </thead>\n",
              "  <tbody>\n",
              "    <tr>\n",
              "      <th>0</th>\n",
              "      <td>0013cc385424</td>\n",
              "      <td>007ACE74B050</td>\n",
              "      <td>hi im isaac im going to be writing about how t...</td>\n",
              "      <td>Lead</td>\n",
              "      <td>Adequate</td>\n",
              "      <td>1</td>\n",
              "    </tr>\n",
              "    <tr>\n",
              "      <th>1</th>\n",
              "      <td>9704a709b505</td>\n",
              "      <td>007ACE74B050</td>\n",
              "      <td>on my perspective i think that the face is a n...</td>\n",
              "      <td>Position</td>\n",
              "      <td>Adequate</td>\n",
              "      <td>2</td>\n",
              "    </tr>\n",
              "    <tr>\n",
              "      <th>2</th>\n",
              "      <td>c22adee811b6</td>\n",
              "      <td>007ACE74B050</td>\n",
              "      <td>i think that the face is a natural landform be...</td>\n",
              "      <td>Claim</td>\n",
              "      <td>Adequate</td>\n",
              "      <td>3</td>\n",
              "    </tr>\n",
              "    <tr>\n",
              "      <th>3</th>\n",
              "      <td>a10d361e54e4</td>\n",
              "      <td>007ACE74B050</td>\n",
              "      <td>if life was on mars we would know by now the r...</td>\n",
              "      <td>Evidence</td>\n",
              "      <td>Adequate</td>\n",
              "      <td>4</td>\n",
              "    </tr>\n",
              "    <tr>\n",
              "      <th>4</th>\n",
              "      <td>db3e453ec4e2</td>\n",
              "      <td>007ACE74B050</td>\n",
              "      <td>people thought that the face was formed by ali...</td>\n",
              "      <td>Counterclaim</td>\n",
              "      <td>Adequate</td>\n",
              "      <td>5</td>\n",
              "    </tr>\n",
              "  </tbody>\n",
              "</table>\n",
              "</div>\n",
              "      <button class=\"colab-df-convert\" onclick=\"convertToInteractive('df-e934b3d3-c865-40d8-9c0a-47de5f7d155c')\"\n",
              "              title=\"Convert this dataframe to an interactive table.\"\n",
              "              style=\"display:none;\">\n",
              "        \n",
              "  <svg xmlns=\"http://www.w3.org/2000/svg\" height=\"24px\"viewBox=\"0 0 24 24\"\n",
              "       width=\"24px\">\n",
              "    <path d=\"M0 0h24v24H0V0z\" fill=\"none\"/>\n",
              "    <path d=\"M18.56 5.44l.94 2.06.94-2.06 2.06-.94-2.06-.94-.94-2.06-.94 2.06-2.06.94zm-11 1L8.5 8.5l.94-2.06 2.06-.94-2.06-.94L8.5 2.5l-.94 2.06-2.06.94zm10 10l.94 2.06.94-2.06 2.06-.94-2.06-.94-.94-2.06-.94 2.06-2.06.94z\"/><path d=\"M17.41 7.96l-1.37-1.37c-.4-.4-.92-.59-1.43-.59-.52 0-1.04.2-1.43.59L10.3 9.45l-7.72 7.72c-.78.78-.78 2.05 0 2.83L4 21.41c.39.39.9.59 1.41.59.51 0 1.02-.2 1.41-.59l7.78-7.78 2.81-2.81c.8-.78.8-2.07 0-2.86zM5.41 20L4 18.59l7.72-7.72 1.47 1.35L5.41 20z\"/>\n",
              "  </svg>\n",
              "      </button>\n",
              "      \n",
              "  <style>\n",
              "    .colab-df-container {\n",
              "      display:flex;\n",
              "      flex-wrap:wrap;\n",
              "      gap: 12px;\n",
              "    }\n",
              "\n",
              "    .colab-df-convert {\n",
              "      background-color: #E8F0FE;\n",
              "      border: none;\n",
              "      border-radius: 50%;\n",
              "      cursor: pointer;\n",
              "      display: none;\n",
              "      fill: #1967D2;\n",
              "      height: 32px;\n",
              "      padding: 0 0 0 0;\n",
              "      width: 32px;\n",
              "    }\n",
              "\n",
              "    .colab-df-convert:hover {\n",
              "      background-color: #E2EBFA;\n",
              "      box-shadow: 0px 1px 2px rgba(60, 64, 67, 0.3), 0px 1px 3px 1px rgba(60, 64, 67, 0.15);\n",
              "      fill: #174EA6;\n",
              "    }\n",
              "\n",
              "    [theme=dark] .colab-df-convert {\n",
              "      background-color: #3B4455;\n",
              "      fill: #D2E3FC;\n",
              "    }\n",
              "\n",
              "    [theme=dark] .colab-df-convert:hover {\n",
              "      background-color: #434B5C;\n",
              "      box-shadow: 0px 1px 3px 1px rgba(0, 0, 0, 0.15);\n",
              "      filter: drop-shadow(0px 1px 2px rgba(0, 0, 0, 0.3));\n",
              "      fill: #FFFFFF;\n",
              "    }\n",
              "  </style>\n",
              "\n",
              "      <script>\n",
              "        const buttonEl =\n",
              "          document.querySelector('#df-e934b3d3-c865-40d8-9c0a-47de5f7d155c button.colab-df-convert');\n",
              "        buttonEl.style.display =\n",
              "          google.colab.kernel.accessAllowed ? 'block' : 'none';\n",
              "\n",
              "        async function convertToInteractive(key) {\n",
              "          const element = document.querySelector('#df-e934b3d3-c865-40d8-9c0a-47de5f7d155c');\n",
              "          const dataTable =\n",
              "            await google.colab.kernel.invokeFunction('convertToInteractive',\n",
              "                                                     [key], {});\n",
              "          if (!dataTable) return;\n",
              "\n",
              "          const docLinkHtml = 'Like what you see? Visit the ' +\n",
              "            '<a target=\"_blank\" href=https://colab.research.google.com/notebooks/data_table.ipynb>data table notebook</a>'\n",
              "            + ' to learn more about interactive tables.';\n",
              "          element.innerHTML = '';\n",
              "          dataTable['output_type'] = 'display_data';\n",
              "          await google.colab.output.renderOutput(dataTable, element);\n",
              "          const docLink = document.createElement('div');\n",
              "          docLink.innerHTML = docLinkHtml;\n",
              "          element.appendChild(docLink);\n",
              "        }\n",
              "      </script>\n",
              "    </div>\n",
              "  </div>\n",
              "  "
            ]
          },
          "metadata": {}
        },
        {
          "output_type": "display_data",
          "data": {
            "text/plain": [
              "   discourse_id      essay_id  \\\n",
              "0  a261b6e14276  D72CB1C11673   \n",
              "1  5a88900e7dc1  D72CB1C11673   \n",
              "2  9790d835736b  D72CB1C11673   \n",
              "3  75ce6d68b67b  D72CB1C11673   \n",
              "4  93578d946723  D72CB1C11673   \n",
              "\n",
              "                                      discourse_text discourse_type  line_num  \n",
              "0  making choices in life can be very difficult p...           Lead         1  \n",
              "1  seeking multiple opinions can help a person ma...       Position         2  \n",
              "2                     it can decrease stress levels           Claim         3  \n",
              "3             a great chance to learn something new           Claim         4  \n",
              "4                can be very helpful and beneficial           Claim         5  "
            ],
            "text/html": [
              "\n",
              "  <div id=\"df-89667ec8-d905-45c6-9fe2-d3fdd166e720\">\n",
              "    <div class=\"colab-df-container\">\n",
              "      <div>\n",
              "<style scoped>\n",
              "    .dataframe tbody tr th:only-of-type {\n",
              "        vertical-align: middle;\n",
              "    }\n",
              "\n",
              "    .dataframe tbody tr th {\n",
              "        vertical-align: top;\n",
              "    }\n",
              "\n",
              "    .dataframe thead th {\n",
              "        text-align: right;\n",
              "    }\n",
              "</style>\n",
              "<table border=\"1\" class=\"dataframe\">\n",
              "  <thead>\n",
              "    <tr style=\"text-align: right;\">\n",
              "      <th></th>\n",
              "      <th>discourse_id</th>\n",
              "      <th>essay_id</th>\n",
              "      <th>discourse_text</th>\n",
              "      <th>discourse_type</th>\n",
              "      <th>line_num</th>\n",
              "    </tr>\n",
              "  </thead>\n",
              "  <tbody>\n",
              "    <tr>\n",
              "      <th>0</th>\n",
              "      <td>a261b6e14276</td>\n",
              "      <td>D72CB1C11673</td>\n",
              "      <td>making choices in life can be very difficult p...</td>\n",
              "      <td>Lead</td>\n",
              "      <td>1</td>\n",
              "    </tr>\n",
              "    <tr>\n",
              "      <th>1</th>\n",
              "      <td>5a88900e7dc1</td>\n",
              "      <td>D72CB1C11673</td>\n",
              "      <td>seeking multiple opinions can help a person ma...</td>\n",
              "      <td>Position</td>\n",
              "      <td>2</td>\n",
              "    </tr>\n",
              "    <tr>\n",
              "      <th>2</th>\n",
              "      <td>9790d835736b</td>\n",
              "      <td>D72CB1C11673</td>\n",
              "      <td>it can decrease stress levels</td>\n",
              "      <td>Claim</td>\n",
              "      <td>3</td>\n",
              "    </tr>\n",
              "    <tr>\n",
              "      <th>3</th>\n",
              "      <td>75ce6d68b67b</td>\n",
              "      <td>D72CB1C11673</td>\n",
              "      <td>a great chance to learn something new</td>\n",
              "      <td>Claim</td>\n",
              "      <td>4</td>\n",
              "    </tr>\n",
              "    <tr>\n",
              "      <th>4</th>\n",
              "      <td>93578d946723</td>\n",
              "      <td>D72CB1C11673</td>\n",
              "      <td>can be very helpful and beneficial</td>\n",
              "      <td>Claim</td>\n",
              "      <td>5</td>\n",
              "    </tr>\n",
              "  </tbody>\n",
              "</table>\n",
              "</div>\n",
              "      <button class=\"colab-df-convert\" onclick=\"convertToInteractive('df-89667ec8-d905-45c6-9fe2-d3fdd166e720')\"\n",
              "              title=\"Convert this dataframe to an interactive table.\"\n",
              "              style=\"display:none;\">\n",
              "        \n",
              "  <svg xmlns=\"http://www.w3.org/2000/svg\" height=\"24px\"viewBox=\"0 0 24 24\"\n",
              "       width=\"24px\">\n",
              "    <path d=\"M0 0h24v24H0V0z\" fill=\"none\"/>\n",
              "    <path d=\"M18.56 5.44l.94 2.06.94-2.06 2.06-.94-2.06-.94-.94-2.06-.94 2.06-2.06.94zm-11 1L8.5 8.5l.94-2.06 2.06-.94-2.06-.94L8.5 2.5l-.94 2.06-2.06.94zm10 10l.94 2.06.94-2.06 2.06-.94-2.06-.94-.94-2.06-.94 2.06-2.06.94z\"/><path d=\"M17.41 7.96l-1.37-1.37c-.4-.4-.92-.59-1.43-.59-.52 0-1.04.2-1.43.59L10.3 9.45l-7.72 7.72c-.78.78-.78 2.05 0 2.83L4 21.41c.39.39.9.59 1.41.59.51 0 1.02-.2 1.41-.59l7.78-7.78 2.81-2.81c.8-.78.8-2.07 0-2.86zM5.41 20L4 18.59l7.72-7.72 1.47 1.35L5.41 20z\"/>\n",
              "  </svg>\n",
              "      </button>\n",
              "      \n",
              "  <style>\n",
              "    .colab-df-container {\n",
              "      display:flex;\n",
              "      flex-wrap:wrap;\n",
              "      gap: 12px;\n",
              "    }\n",
              "\n",
              "    .colab-df-convert {\n",
              "      background-color: #E8F0FE;\n",
              "      border: none;\n",
              "      border-radius: 50%;\n",
              "      cursor: pointer;\n",
              "      display: none;\n",
              "      fill: #1967D2;\n",
              "      height: 32px;\n",
              "      padding: 0 0 0 0;\n",
              "      width: 32px;\n",
              "    }\n",
              "\n",
              "    .colab-df-convert:hover {\n",
              "      background-color: #E2EBFA;\n",
              "      box-shadow: 0px 1px 2px rgba(60, 64, 67, 0.3), 0px 1px 3px 1px rgba(60, 64, 67, 0.15);\n",
              "      fill: #174EA6;\n",
              "    }\n",
              "\n",
              "    [theme=dark] .colab-df-convert {\n",
              "      background-color: #3B4455;\n",
              "      fill: #D2E3FC;\n",
              "    }\n",
              "\n",
              "    [theme=dark] .colab-df-convert:hover {\n",
              "      background-color: #434B5C;\n",
              "      box-shadow: 0px 1px 3px 1px rgba(0, 0, 0, 0.15);\n",
              "      filter: drop-shadow(0px 1px 2px rgba(0, 0, 0, 0.3));\n",
              "      fill: #FFFFFF;\n",
              "    }\n",
              "  </style>\n",
              "\n",
              "      <script>\n",
              "        const buttonEl =\n",
              "          document.querySelector('#df-89667ec8-d905-45c6-9fe2-d3fdd166e720 button.colab-df-convert');\n",
              "        buttonEl.style.display =\n",
              "          google.colab.kernel.accessAllowed ? 'block' : 'none';\n",
              "\n",
              "        async function convertToInteractive(key) {\n",
              "          const element = document.querySelector('#df-89667ec8-d905-45c6-9fe2-d3fdd166e720');\n",
              "          const dataTable =\n",
              "            await google.colab.kernel.invokeFunction('convertToInteractive',\n",
              "                                                     [key], {});\n",
              "          if (!dataTable) return;\n",
              "\n",
              "          const docLinkHtml = 'Like what you see? Visit the ' +\n",
              "            '<a target=\"_blank\" href=https://colab.research.google.com/notebooks/data_table.ipynb>data table notebook</a>'\n",
              "            + ' to learn more about interactive tables.';\n",
              "          element.innerHTML = '';\n",
              "          dataTable['output_type'] = 'display_data';\n",
              "          await google.colab.output.renderOutput(dataTable, element);\n",
              "          const docLink = document.createElement('div');\n",
              "          docLink.innerHTML = docLinkHtml;\n",
              "          element.appendChild(docLink);\n",
              "        }\n",
              "      </script>\n",
              "    </div>\n",
              "  </div>\n",
              "  "
            ]
          },
          "metadata": {}
        },
        {
          "output_type": "execute_result",
          "data": {
            "text/plain": [
              "(None, None, None)"
            ]
          },
          "metadata": {},
          "execution_count": 6
        }
      ],
      "source": [
        "preprocess_text(train), preprocess_text(test), display(train.head(), test.head())"
      ]
    },
    {
      "cell_type": "markdown",
      "metadata": {
        "id": "zHSEAvpoOEQR"
      },
      "source": [
        "## Splitting train dataset into train and val \n",
        "Since in my opinion order of essays are important I will split dataset but will keep same essay elements together."
      ]
    },
    {
      "cell_type": "code",
      "execution_count": 7,
      "metadata": {
        "colab": {
          "base_uri": "https://localhost:8080/"
        },
        "id": "AOPhfl2rOnem",
        "outputId": "402b78b2-af52-469b-8207-51ea78eb949a"
      },
      "outputs": [
        {
          "output_type": "execute_result",
          "data": {
            "text/plain": [
              "((33112, 6), (3653, 6))"
            ]
          },
          "metadata": {},
          "execution_count": 7
        }
      ],
      "source": [
        "# Make Train And Val Split\n",
        "np.random.seed(42)\n",
        "split_size = int(0.1 * train[\"essay_id\"].nunique()) # Split size \n",
        "random_id = random.sample(list(train[\"essay_id\"].unique()), split_size) # choose random sample from unique ids \n",
        "is_val = np.isin(train.essay_id, random_id) # returns boolean list are these samples in d\n",
        "idxs = np.arange(len(train))\n",
        "val_idxs = idxs[ is_val]\n",
        "trn_idxs = idxs[~is_val]\n",
        "val = train.iloc[val_idxs]\n",
        "train = train.iloc[trn_idxs]\n",
        "train.shape, val.shape"
      ]
    },
    {
      "cell_type": "markdown",
      "metadata": {
        "id": "lpLQdHw1coTW"
      },
      "source": [
        "## Preparing for Multi Input Functional API"
      ]
    },
    {
      "cell_type": "markdown",
      "metadata": {
        "id": "VWG7XdE1kSYV"
      },
      "source": [
        "### Label\n"
      ]
    },
    {
      "cell_type": "code",
      "execution_count": 8,
      "metadata": {
        "id": "DjvCS2iwkZxz"
      },
      "outputs": [],
      "source": [
        "# OneHotEncode, Target data\n",
        "ohe = OneHotEncoder(sparse = False)\n",
        "train_labels_ohe = ohe.fit_transform(train.discourse_effectiveness.to_numpy().reshape(-1,1))\n",
        "val_labels_ohe = ohe.fit_transform(val.discourse_effectiveness.to_numpy().reshape(-1,1))\n",
        "\n"
      ]
    },
    {
      "cell_type": "markdown",
      "metadata": {
        "id": "nyNDWMGbdVpM"
      },
      "source": [
        "### Token"
      ]
    },
    {
      "cell_type": "code",
      "execution_count": 9,
      "metadata": {
        "colab": {
          "base_uri": "https://localhost:8080/"
        },
        "id": "pNaGJ8s3Q2OL",
        "outputId": "28b6e522-b42e-4974-f382-4d5a320622aa"
      },
      "outputs": [
        {
          "output_type": "execute_result",
          "data": {
            "text/plain": [
              "0    hi im isaac im going to be writing about how t...\n",
              "1    on my perspective i think that the face is a n...\n",
              "2    i think that the face is a natural landform be...\n",
              "3    if life was on mars we would know by now the r...\n",
              "4    people thought that the face was formed by ali...\n",
              "Name: discourse_text, dtype: object"
            ]
          },
          "metadata": {},
          "execution_count": 9
        }
      ],
      "source": [
        "# Create sentence var for Token\n",
        "train_sentences = train.discourse_text\n",
        "val_sentences = val.discourse_text\n",
        "test_sentences = test.discourse_text\n",
        "train_sentences[:5]"
      ]
    },
    {
      "cell_type": "code",
      "execution_count": 10,
      "metadata": {
        "id": "XAp3sh04dX9I"
      },
      "outputs": [],
      "source": [
        "# Download and load pretrained Universal Sentence Encoder\n",
        "large_embed = KerasLayer(\"https://tfhub.dev/google/universal-sentence-encoder-large/5\",\n",
        "                       input_shape = [],\n",
        "                       dtype = tf.string,\n",
        "                       trainable = False,\n",
        "                       name = \"USE\")"
      ]
    },
    {
      "cell_type": "markdown",
      "metadata": {
        "id": "BTonK_8Hchhq"
      },
      "source": [
        "### line_num"
      ]
    },
    {
      "cell_type": "code",
      "execution_count": 11,
      "metadata": {
        "colab": {
          "base_uri": "https://localhost:8080/"
        },
        "id": "0Jqdf38Hc5j8",
        "outputId": "19711e81-1baa-4e53-9184-9124002f1037"
      },
      "outputs": [
        {
          "output_type": "execute_result",
          "data": {
            "text/plain": [
              "14.0"
            ]
          },
          "metadata": {},
          "execution_count": 11
        }
      ],
      "source": [
        "# Check 98% percentile of line_num\n",
        "line_num_98perc = np.percentile(train.line_num, 98)\n",
        "line_num_98perc"
      ]
    },
    {
      "cell_type": "code",
      "execution_count": 12,
      "metadata": {
        "id": "BBTSrOVAdF0l"
      },
      "outputs": [],
      "source": [
        "# OneHotEncode line_num \n",
        "\n",
        "train_line_ohe = tf.one_hot(train.line_num.to_numpy(), depth = line_num_98perc)\n",
        "val_line_ohe = tf.one_hot(val.line_num.to_numpy(), depth = line_num_98perc)\n",
        "test_line_ohe = tf.one_hot(test.line_num.to_numpy(), depth = line_num_98perc)"
      ]
    },
    {
      "cell_type": "markdown",
      "metadata": {
        "id": "zPDTxeBygEM5"
      },
      "source": [
        "### discourse_type\n"
      ]
    },
    {
      "cell_type": "code",
      "execution_count": 57,
      "metadata": {
        "id": "86JYNs2WgHbh"
      },
      "outputs": [],
      "source": [
        "# OneHotEncode discourse_type\n",
        "le = LabelEncoder()\n",
        "train_distype_ohe = ohe.fit_transform(train.discourse_type.to_numpy().reshape(-1,1))\n",
        "val_distype_ohe = ohe.fit_transform(val.discourse_type.to_numpy().reshape(-1,1))\n",
        "test_distype_ohe = tf.one_hot(le.fit_transform(test.discourse_type), depth= 7)\n"
      ]
    },
    {
      "cell_type": "markdown",
      "metadata": {
        "id": "5e9yYJFRjL0s"
      },
      "source": [
        "### Let's Combine and Create tf.data"
      ]
    },
    {
      "cell_type": "code",
      "execution_count": 60,
      "metadata": {
        "id": "uQXmhFUgjZ46"
      },
      "outputs": [],
      "source": [
        "# Train dataset\n",
        "train_data = tf.data.Dataset.from_tensor_slices((train_sentences,\n",
        "                                                 train_line_ohe,\n",
        "                                                 train_distype_ohe))\n",
        "train_label = tf.data.Dataset.from_tensor_slices(train_labels_ohe)\n",
        "train_dataset = tf.data.Dataset.zip((train_data, train_label)).batch(32).prefetch(tf.data.AUTOTUNE)\n",
        "\n",
        "# Val Dataset\n",
        "val_data = tf.data.Dataset.from_tensor_slices((val_sentences,\n",
        "                                                 val_line_ohe,\n",
        "                                                 val_distype_ohe))\n",
        "val_label = tf.data.Dataset.from_tensor_slices(val_labels_ohe)\n",
        "val_dataset = tf.data.Dataset.zip((val_data, val_label)).batch(32).prefetch(tf.data.AUTOTUNE)\n",
        "\n",
        "# Test Dataset\n",
        "test_dataset = [np.array(test_sentences), np.array(test_line_ohe), np.array(test_distype_ohe)] "
      ]
    },
    {
      "cell_type": "markdown",
      "metadata": {
        "id": "ffiDkWuimuiR"
      },
      "source": [
        "## Building quadruple input model with Functional API\n"
      ]
    },
    {
      "cell_type": "code",
      "execution_count": 15,
      "metadata": {
        "id": "jYgsYKx3m3sZ"
      },
      "outputs": [],
      "source": [
        "# Token Model\n",
        "token_inputs = layers.Input(shape = [], dtype = tf.string, name = \"token_input\")\n",
        "token_embed = large_embed(token_inputs)\n",
        "token_output = layers.Dense(128, activation = \"relu\")(token_embed)\n",
        "token_model = tf.keras.Model(token_inputs, token_output)\n",
        "\n",
        "\n",
        "# line_num Model\n",
        "line_input = layers.Input(int(line_num_98perc,), dtype = tf.float32, name = \"line_num_model\")\n",
        "line_output = layers.Dense(128, activation = \"relu\")(line_input)\n",
        "line_model = tf.keras.Model(line_input, line_output)\n",
        "\n",
        "# type Model\n",
        "type_input = layers.Input(shape = (7,), dtype = tf.float64, name = \"type_model\")\n",
        "type_output = layers.Dense(128, activation = \"relu\")(type_input)\n",
        "type_model = tf.keras.Model(type_input,type_output)\n",
        "\n",
        "# Concatenate all add dropout\n",
        "z = layers.Concatenate()([token_model.output,\n",
        "                        line_model.output,\n",
        "                        type_model.output])\n",
        "\n",
        "z = layers.Dense(256,activation = \"relu\")(z)\n",
        "\n",
        "# output\n",
        "model_output = layers.Dense(3, activation = \"softmax\")(z)\n",
        "\n",
        "# Create model\n",
        "model = tf.keras.Model([token_model.input,\n",
        "                        line_model.input,\n",
        "                        type_model.input],\n",
        "                       model_output)\n",
        "\n",
        "# Model Comple\n",
        "model.compile(loss = \"categorical_crossentropy\",\n",
        "              optimizer= tf.keras.optimizers.Adam(),\n",
        "              metrics = [\"accuracy\"])\n"
      ]
    },
    {
      "cell_type": "code",
      "execution_count": 16,
      "metadata": {
        "colab": {
          "base_uri": "https://localhost:8080/"
        },
        "id": "1FNx3QnCwF_x",
        "outputId": "9253ed22-340b-408e-8cb9-aee28c513e5d"
      },
      "outputs": [
        {
          "output_type": "stream",
          "name": "stdout",
          "text": [
            "Epoch 1/5\n",
            "200/200 [==============================] - 61s 167ms/step - loss: 0.8529 - accuracy: 0.6142 - val_loss: 0.8343 - val_accuracy: 0.6422\n",
            "Epoch 2/5\n",
            "200/200 [==============================] - 27s 135ms/step - loss: 0.7829 - accuracy: 0.6431 - val_loss: 0.8470 - val_accuracy: 0.6354\n",
            "Epoch 3/5\n",
            "200/200 [==============================] - 25s 125ms/step - loss: 0.8120 - accuracy: 0.6381 - val_loss: 0.7866 - val_accuracy: 0.6545\n",
            "Epoch 4/5\n",
            "200/200 [==============================] - 24s 122ms/step - loss: 0.8043 - accuracy: 0.6403 - val_loss: 0.7682 - val_accuracy: 0.6644\n",
            "Epoch 5/5\n",
            "200/200 [==============================] - 26s 129ms/step - loss: 0.7735 - accuracy: 0.6503 - val_loss: 0.7672 - val_accuracy: 0.6655\n"
          ]
        }
      ],
      "source": [
        "# Fit the model\n",
        "history_model = model.fit(train_dataset,\n",
        "                          steps_per_epoch = 200, \n",
        "                          epochs = 5,\n",
        "                          validation_data = val_dataset)"
      ]
    },
    {
      "cell_type": "code",
      "execution_count": 17,
      "metadata": {
        "colab": {
          "base_uri": "https://localhost:8080/"
        },
        "id": "ktpSAqEszVeW",
        "outputId": "9d475961-1f67-4451-d5a7-3e3ed50fbb19"
      },
      "outputs": [
        {
          "output_type": "stream",
          "name": "stdout",
          "text": [
            "115/115 [==============================] - 10s 86ms/step - loss: 0.7672 - accuracy: 0.6655\n"
          ]
        },
        {
          "output_type": "execute_result",
          "data": {
            "text/plain": [
              "[0.7671899199485779, 0.6654804348945618]"
            ]
          },
          "metadata": {},
          "execution_count": 17
        }
      ],
      "source": [
        "# Evaluate on val_dataset\n",
        "model.evaluate(val_dataset)"
      ]
    },
    {
      "cell_type": "code",
      "source": [
        "# Predict on dummified test dataset\n",
        "preds = model.predict(test_dataset)\n",
        "preds"
      ],
      "metadata": {
        "colab": {
          "base_uri": "https://localhost:8080/"
        },
        "id": "-x11p3ChrYY9",
        "outputId": "cbede00f-f369-4c98-95a1-d60506e23eb1"
      },
      "execution_count": 91,
      "outputs": [
        {
          "output_type": "execute_result",
          "data": {
            "text/plain": [
              "array([[0.6249582 , 0.2001147 , 0.17492707],\n",
              "       [0.57884675, 0.3763547 , 0.04479856],\n",
              "       [0.4205305 , 0.5471592 , 0.03231025],\n",
              "       [0.47225028, 0.46337327, 0.06437641],\n",
              "       [0.35747603, 0.6178139 , 0.02471006],\n",
              "       [0.1511378 , 0.8461433 , 0.00271885],\n",
              "       [0.12537955, 0.87224346, 0.002377  ],\n",
              "       [0.29659575, 0.6843073 , 0.01909694],\n",
              "       [0.1557727 , 0.8416939 , 0.00253344],\n",
              "       [0.2976338 , 0.69790334, 0.00446295]], dtype=float32)"
            ]
          },
          "metadata": {},
          "execution_count": 91
        }
      ]
    },
    {
      "cell_type": "code",
      "source": [
        "# Save Model\n",
        "model.save(\"3_input_model.h5\")"
      ],
      "metadata": {
        "id": "Rsc_w2YdtZ90"
      },
      "execution_count": 84,
      "outputs": []
    },
    {
      "cell_type": "code",
      "source": [
        "# Check Sample Submission\n",
        "sample_sub = pd.read_csv('drive/MyDrive/Datasets/Feedback_Prize/sample_submission.csv')\n",
        "sample_sub.head()"
      ],
      "metadata": {
        "colab": {
          "base_uri": "https://localhost:8080/",
          "height": 206
        },
        "id": "qStdBzcZ2-QT",
        "outputId": "d3097f26-d335-4713-91f2-ec654a4b73e6"
      },
      "execution_count": 85,
      "outputs": [
        {
          "output_type": "execute_result",
          "data": {
            "text/plain": [
              "   discourse_id  Ineffective  Adequate  Effective\n",
              "0  a261b6e14276         0.20      0.60       0.40\n",
              "1  5a88900e7dc1         3.00      6.00       1.00\n",
              "2  9790d835736b         1.00      2.00       3.00\n",
              "3  75ce6d68b67b         0.33      0.34       0.33\n",
              "4  93578d946723         0.01      0.24       0.47"
            ],
            "text/html": [
              "\n",
              "  <div id=\"df-b38bf7f8-be9d-472d-9998-17399f1df666\">\n",
              "    <div class=\"colab-df-container\">\n",
              "      <div>\n",
              "<style scoped>\n",
              "    .dataframe tbody tr th:only-of-type {\n",
              "        vertical-align: middle;\n",
              "    }\n",
              "\n",
              "    .dataframe tbody tr th {\n",
              "        vertical-align: top;\n",
              "    }\n",
              "\n",
              "    .dataframe thead th {\n",
              "        text-align: right;\n",
              "    }\n",
              "</style>\n",
              "<table border=\"1\" class=\"dataframe\">\n",
              "  <thead>\n",
              "    <tr style=\"text-align: right;\">\n",
              "      <th></th>\n",
              "      <th>discourse_id</th>\n",
              "      <th>Ineffective</th>\n",
              "      <th>Adequate</th>\n",
              "      <th>Effective</th>\n",
              "    </tr>\n",
              "  </thead>\n",
              "  <tbody>\n",
              "    <tr>\n",
              "      <th>0</th>\n",
              "      <td>a261b6e14276</td>\n",
              "      <td>0.20</td>\n",
              "      <td>0.60</td>\n",
              "      <td>0.40</td>\n",
              "    </tr>\n",
              "    <tr>\n",
              "      <th>1</th>\n",
              "      <td>5a88900e7dc1</td>\n",
              "      <td>3.00</td>\n",
              "      <td>6.00</td>\n",
              "      <td>1.00</td>\n",
              "    </tr>\n",
              "    <tr>\n",
              "      <th>2</th>\n",
              "      <td>9790d835736b</td>\n",
              "      <td>1.00</td>\n",
              "      <td>2.00</td>\n",
              "      <td>3.00</td>\n",
              "    </tr>\n",
              "    <tr>\n",
              "      <th>3</th>\n",
              "      <td>75ce6d68b67b</td>\n",
              "      <td>0.33</td>\n",
              "      <td>0.34</td>\n",
              "      <td>0.33</td>\n",
              "    </tr>\n",
              "    <tr>\n",
              "      <th>4</th>\n",
              "      <td>93578d946723</td>\n",
              "      <td>0.01</td>\n",
              "      <td>0.24</td>\n",
              "      <td>0.47</td>\n",
              "    </tr>\n",
              "  </tbody>\n",
              "</table>\n",
              "</div>\n",
              "      <button class=\"colab-df-convert\" onclick=\"convertToInteractive('df-b38bf7f8-be9d-472d-9998-17399f1df666')\"\n",
              "              title=\"Convert this dataframe to an interactive table.\"\n",
              "              style=\"display:none;\">\n",
              "        \n",
              "  <svg xmlns=\"http://www.w3.org/2000/svg\" height=\"24px\"viewBox=\"0 0 24 24\"\n",
              "       width=\"24px\">\n",
              "    <path d=\"M0 0h24v24H0V0z\" fill=\"none\"/>\n",
              "    <path d=\"M18.56 5.44l.94 2.06.94-2.06 2.06-.94-2.06-.94-.94-2.06-.94 2.06-2.06.94zm-11 1L8.5 8.5l.94-2.06 2.06-.94-2.06-.94L8.5 2.5l-.94 2.06-2.06.94zm10 10l.94 2.06.94-2.06 2.06-.94-2.06-.94-.94-2.06-.94 2.06-2.06.94z\"/><path d=\"M17.41 7.96l-1.37-1.37c-.4-.4-.92-.59-1.43-.59-.52 0-1.04.2-1.43.59L10.3 9.45l-7.72 7.72c-.78.78-.78 2.05 0 2.83L4 21.41c.39.39.9.59 1.41.59.51 0 1.02-.2 1.41-.59l7.78-7.78 2.81-2.81c.8-.78.8-2.07 0-2.86zM5.41 20L4 18.59l7.72-7.72 1.47 1.35L5.41 20z\"/>\n",
              "  </svg>\n",
              "      </button>\n",
              "      \n",
              "  <style>\n",
              "    .colab-df-container {\n",
              "      display:flex;\n",
              "      flex-wrap:wrap;\n",
              "      gap: 12px;\n",
              "    }\n",
              "\n",
              "    .colab-df-convert {\n",
              "      background-color: #E8F0FE;\n",
              "      border: none;\n",
              "      border-radius: 50%;\n",
              "      cursor: pointer;\n",
              "      display: none;\n",
              "      fill: #1967D2;\n",
              "      height: 32px;\n",
              "      padding: 0 0 0 0;\n",
              "      width: 32px;\n",
              "    }\n",
              "\n",
              "    .colab-df-convert:hover {\n",
              "      background-color: #E2EBFA;\n",
              "      box-shadow: 0px 1px 2px rgba(60, 64, 67, 0.3), 0px 1px 3px 1px rgba(60, 64, 67, 0.15);\n",
              "      fill: #174EA6;\n",
              "    }\n",
              "\n",
              "    [theme=dark] .colab-df-convert {\n",
              "      background-color: #3B4455;\n",
              "      fill: #D2E3FC;\n",
              "    }\n",
              "\n",
              "    [theme=dark] .colab-df-convert:hover {\n",
              "      background-color: #434B5C;\n",
              "      box-shadow: 0px 1px 3px 1px rgba(0, 0, 0, 0.15);\n",
              "      filter: drop-shadow(0px 1px 2px rgba(0, 0, 0, 0.3));\n",
              "      fill: #FFFFFF;\n",
              "    }\n",
              "  </style>\n",
              "\n",
              "      <script>\n",
              "        const buttonEl =\n",
              "          document.querySelector('#df-b38bf7f8-be9d-472d-9998-17399f1df666 button.colab-df-convert');\n",
              "        buttonEl.style.display =\n",
              "          google.colab.kernel.accessAllowed ? 'block' : 'none';\n",
              "\n",
              "        async function convertToInteractive(key) {\n",
              "          const element = document.querySelector('#df-b38bf7f8-be9d-472d-9998-17399f1df666');\n",
              "          const dataTable =\n",
              "            await google.colab.kernel.invokeFunction('convertToInteractive',\n",
              "                                                     [key], {});\n",
              "          if (!dataTable) return;\n",
              "\n",
              "          const docLinkHtml = 'Like what you see? Visit the ' +\n",
              "            '<a target=\"_blank\" href=https://colab.research.google.com/notebooks/data_table.ipynb>data table notebook</a>'\n",
              "            + ' to learn more about interactive tables.';\n",
              "          element.innerHTML = '';\n",
              "          dataTable['output_type'] = 'display_data';\n",
              "          await google.colab.output.renderOutput(dataTable, element);\n",
              "          const docLink = document.createElement('div');\n",
              "          docLink.innerHTML = docLinkHtml;\n",
              "          element.appendChild(docLink);\n",
              "        }\n",
              "      </script>\n",
              "    </div>\n",
              "  </div>\n",
              "  "
            ]
          },
          "metadata": {},
          "execution_count": 85
        }
      ]
    },
    {
      "cell_type": "code",
      "source": [
        "# Create submisson csv \n",
        "my_submission = pd.DataFrame({\n",
        "    \"discourse_id\": test.discourse_id,\n",
        "    \"Ineffective\": preds[:,0],\n",
        "    \"Adequate\": preds[:,1],\n",
        "    \"Effective\": preds[:,2]\n",
        "})\n",
        "my_submission"
      ],
      "metadata": {
        "colab": {
          "base_uri": "https://localhost:8080/",
          "height": 363
        },
        "id": "7ODXWmND3OHM",
        "outputId": "e15c0867-ff6d-4391-c030-f4bb39a9de7e"
      },
      "execution_count": 90,
      "outputs": [
        {
          "output_type": "execute_result",
          "data": {
            "text/plain": [
              "   discourse_id  Ineffective  Adequate  Effective\n",
              "0  a261b6e14276     0.624958  0.200115   0.174927\n",
              "1  5a88900e7dc1     0.578847  0.376355   0.044799\n",
              "2  9790d835736b     0.420530  0.547159   0.032310\n",
              "3  75ce6d68b67b     0.472250  0.463373   0.064376\n",
              "4  93578d946723     0.357476  0.617814   0.024710\n",
              "5  2e214524dbe3     0.151138  0.846143   0.002719\n",
              "6  84812fc2ab9f     0.125380  0.872243   0.002377\n",
              "7  c668ff840720     0.296596  0.684307   0.019097\n",
              "8  739a6d00f44a     0.155773  0.841694   0.002533\n",
              "9  bcfae2c9a244     0.297634  0.697903   0.004463"
            ],
            "text/html": [
              "\n",
              "  <div id=\"df-80df4d7c-8320-4789-8dc1-03e090552da8\">\n",
              "    <div class=\"colab-df-container\">\n",
              "      <div>\n",
              "<style scoped>\n",
              "    .dataframe tbody tr th:only-of-type {\n",
              "        vertical-align: middle;\n",
              "    }\n",
              "\n",
              "    .dataframe tbody tr th {\n",
              "        vertical-align: top;\n",
              "    }\n",
              "\n",
              "    .dataframe thead th {\n",
              "        text-align: right;\n",
              "    }\n",
              "</style>\n",
              "<table border=\"1\" class=\"dataframe\">\n",
              "  <thead>\n",
              "    <tr style=\"text-align: right;\">\n",
              "      <th></th>\n",
              "      <th>discourse_id</th>\n",
              "      <th>Ineffective</th>\n",
              "      <th>Adequate</th>\n",
              "      <th>Effective</th>\n",
              "    </tr>\n",
              "  </thead>\n",
              "  <tbody>\n",
              "    <tr>\n",
              "      <th>0</th>\n",
              "      <td>a261b6e14276</td>\n",
              "      <td>0.624958</td>\n",
              "      <td>0.200115</td>\n",
              "      <td>0.174927</td>\n",
              "    </tr>\n",
              "    <tr>\n",
              "      <th>1</th>\n",
              "      <td>5a88900e7dc1</td>\n",
              "      <td>0.578847</td>\n",
              "      <td>0.376355</td>\n",
              "      <td>0.044799</td>\n",
              "    </tr>\n",
              "    <tr>\n",
              "      <th>2</th>\n",
              "      <td>9790d835736b</td>\n",
              "      <td>0.420530</td>\n",
              "      <td>0.547159</td>\n",
              "      <td>0.032310</td>\n",
              "    </tr>\n",
              "    <tr>\n",
              "      <th>3</th>\n",
              "      <td>75ce6d68b67b</td>\n",
              "      <td>0.472250</td>\n",
              "      <td>0.463373</td>\n",
              "      <td>0.064376</td>\n",
              "    </tr>\n",
              "    <tr>\n",
              "      <th>4</th>\n",
              "      <td>93578d946723</td>\n",
              "      <td>0.357476</td>\n",
              "      <td>0.617814</td>\n",
              "      <td>0.024710</td>\n",
              "    </tr>\n",
              "    <tr>\n",
              "      <th>5</th>\n",
              "      <td>2e214524dbe3</td>\n",
              "      <td>0.151138</td>\n",
              "      <td>0.846143</td>\n",
              "      <td>0.002719</td>\n",
              "    </tr>\n",
              "    <tr>\n",
              "      <th>6</th>\n",
              "      <td>84812fc2ab9f</td>\n",
              "      <td>0.125380</td>\n",
              "      <td>0.872243</td>\n",
              "      <td>0.002377</td>\n",
              "    </tr>\n",
              "    <tr>\n",
              "      <th>7</th>\n",
              "      <td>c668ff840720</td>\n",
              "      <td>0.296596</td>\n",
              "      <td>0.684307</td>\n",
              "      <td>0.019097</td>\n",
              "    </tr>\n",
              "    <tr>\n",
              "      <th>8</th>\n",
              "      <td>739a6d00f44a</td>\n",
              "      <td>0.155773</td>\n",
              "      <td>0.841694</td>\n",
              "      <td>0.002533</td>\n",
              "    </tr>\n",
              "    <tr>\n",
              "      <th>9</th>\n",
              "      <td>bcfae2c9a244</td>\n",
              "      <td>0.297634</td>\n",
              "      <td>0.697903</td>\n",
              "      <td>0.004463</td>\n",
              "    </tr>\n",
              "  </tbody>\n",
              "</table>\n",
              "</div>\n",
              "      <button class=\"colab-df-convert\" onclick=\"convertToInteractive('df-80df4d7c-8320-4789-8dc1-03e090552da8')\"\n",
              "              title=\"Convert this dataframe to an interactive table.\"\n",
              "              style=\"display:none;\">\n",
              "        \n",
              "  <svg xmlns=\"http://www.w3.org/2000/svg\" height=\"24px\"viewBox=\"0 0 24 24\"\n",
              "       width=\"24px\">\n",
              "    <path d=\"M0 0h24v24H0V0z\" fill=\"none\"/>\n",
              "    <path d=\"M18.56 5.44l.94 2.06.94-2.06 2.06-.94-2.06-.94-.94-2.06-.94 2.06-2.06.94zm-11 1L8.5 8.5l.94-2.06 2.06-.94-2.06-.94L8.5 2.5l-.94 2.06-2.06.94zm10 10l.94 2.06.94-2.06 2.06-.94-2.06-.94-.94-2.06-.94 2.06-2.06.94z\"/><path d=\"M17.41 7.96l-1.37-1.37c-.4-.4-.92-.59-1.43-.59-.52 0-1.04.2-1.43.59L10.3 9.45l-7.72 7.72c-.78.78-.78 2.05 0 2.83L4 21.41c.39.39.9.59 1.41.59.51 0 1.02-.2 1.41-.59l7.78-7.78 2.81-2.81c.8-.78.8-2.07 0-2.86zM5.41 20L4 18.59l7.72-7.72 1.47 1.35L5.41 20z\"/>\n",
              "  </svg>\n",
              "      </button>\n",
              "      \n",
              "  <style>\n",
              "    .colab-df-container {\n",
              "      display:flex;\n",
              "      flex-wrap:wrap;\n",
              "      gap: 12px;\n",
              "    }\n",
              "\n",
              "    .colab-df-convert {\n",
              "      background-color: #E8F0FE;\n",
              "      border: none;\n",
              "      border-radius: 50%;\n",
              "      cursor: pointer;\n",
              "      display: none;\n",
              "      fill: #1967D2;\n",
              "      height: 32px;\n",
              "      padding: 0 0 0 0;\n",
              "      width: 32px;\n",
              "    }\n",
              "\n",
              "    .colab-df-convert:hover {\n",
              "      background-color: #E2EBFA;\n",
              "      box-shadow: 0px 1px 2px rgba(60, 64, 67, 0.3), 0px 1px 3px 1px rgba(60, 64, 67, 0.15);\n",
              "      fill: #174EA6;\n",
              "    }\n",
              "\n",
              "    [theme=dark] .colab-df-convert {\n",
              "      background-color: #3B4455;\n",
              "      fill: #D2E3FC;\n",
              "    }\n",
              "\n",
              "    [theme=dark] .colab-df-convert:hover {\n",
              "      background-color: #434B5C;\n",
              "      box-shadow: 0px 1px 3px 1px rgba(0, 0, 0, 0.15);\n",
              "      filter: drop-shadow(0px 1px 2px rgba(0, 0, 0, 0.3));\n",
              "      fill: #FFFFFF;\n",
              "    }\n",
              "  </style>\n",
              "\n",
              "      <script>\n",
              "        const buttonEl =\n",
              "          document.querySelector('#df-80df4d7c-8320-4789-8dc1-03e090552da8 button.colab-df-convert');\n",
              "        buttonEl.style.display =\n",
              "          google.colab.kernel.accessAllowed ? 'block' : 'none';\n",
              "\n",
              "        async function convertToInteractive(key) {\n",
              "          const element = document.querySelector('#df-80df4d7c-8320-4789-8dc1-03e090552da8');\n",
              "          const dataTable =\n",
              "            await google.colab.kernel.invokeFunction('convertToInteractive',\n",
              "                                                     [key], {});\n",
              "          if (!dataTable) return;\n",
              "\n",
              "          const docLinkHtml = 'Like what you see? Visit the ' +\n",
              "            '<a target=\"_blank\" href=https://colab.research.google.com/notebooks/data_table.ipynb>data table notebook</a>'\n",
              "            + ' to learn more about interactive tables.';\n",
              "          element.innerHTML = '';\n",
              "          dataTable['output_type'] = 'display_data';\n",
              "          await google.colab.output.renderOutput(dataTable, element);\n",
              "          const docLink = document.createElement('div');\n",
              "          docLink.innerHTML = docLinkHtml;\n",
              "          element.appendChild(docLink);\n",
              "        }\n",
              "      </script>\n",
              "    </div>\n",
              "  </div>\n",
              "  "
            ]
          },
          "metadata": {},
          "execution_count": 90
        }
      ]
    },
    {
      "cell_type": "code",
      "source": [
        "my_submission.to_csv('submission.csv',index=False)"
      ],
      "metadata": {
        "id": "g2vsq1xt3-c9"
      },
      "execution_count": null,
      "outputs": []
    }
  ],
  "metadata": {
    "accelerator": "GPU",
    "colab": {
      "collapsed_sections": [],
      "name": "Triple_Input_Model_wUniversalSentenceEncoder.ipynb",
      "provenance": []
    },
    "gpuClass": "standard",
    "kernelspec": {
      "display_name": "Python 3",
      "name": "python3"
    },
    "language_info": {
      "name": "python"
    }
  },
  "nbformat": 4,
  "nbformat_minor": 0
}